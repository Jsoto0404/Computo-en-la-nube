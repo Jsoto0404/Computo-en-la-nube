{
 "cells": [
  {
   "cell_type": "markdown",
   "metadata": {},
   "source": [
    "## Crear un sistema que pida n cantidad de tareas y se cierre si detecte un número. Al final debe mostrar todo lo que se añadio"
   ]
  },
  {
   "cell_type": "code",
   "execution_count": 1,
   "metadata": {},
   "outputs": [
    {
     "name": "stdout",
     "output_type": "stream",
     "text": [
      "Se detectó un número solo. Cerrando el programa.\n",
      "\n",
      "Tareas añadidas:\n",
      "Barrer\n",
      "Trapear\n",
      "Quitar el polvo de los estantes\n"
     ]
    }
   ],
   "source": [
    "with open(\"tareas.txt\", \"w\") as archivo:\n",
    "    tareas = False\n",
    "    while True:\n",
    "        tarea = input(\"Ingresa una tarea (ingresa un número para salir): \")\n",
    "\n",
    "        if tarea.isdigit():\n",
    "            print(\"Se detectó un número solo. Cerrando el programa.\")\n",
    "            break\n",
    "        \n",
    "        archivo.write(tarea + \"\\n\")\n",
    "        tareas = True\n",
    "\n",
    "if tareas:\n",
    "    print(\"\\nTareas añadidas:\")\n",
    "    with open(\"tareas.txt\", \"r\") as archivo:\n",
    "        tareas = archivo.readlines()\n",
    "        for tarea in tareas:\n",
    "            print(tarea.strip())\n",
    "\n",
    "\n"
   ]
  }
 ],
 "metadata": {
  "kernelspec": {
   "display_name": "Python 3",
   "language": "python",
   "name": "python3"
  },
  "language_info": {
   "codemirror_mode": {
    "name": "ipython",
    "version": 3
   },
   "file_extension": ".py",
   "mimetype": "text/x-python",
   "name": "python",
   "nbconvert_exporter": "python",
   "pygments_lexer": "ipython3",
   "version": "3.13.0"
  }
 },
 "nbformat": 4,
 "nbformat_minor": 2
}
