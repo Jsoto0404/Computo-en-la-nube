{
 "cells": [
  {
   "cell_type": "code",
   "execution_count": 14,
   "metadata": {},
   "outputs": [],
   "source": [
    "class Spotify:\n",
    "    def __init__(self,Cancion,Duracion,Lyrics,Artista,Album,Año,Genero,Oyentes,Escritores,Productores,Disquera):\n",
    "        self.Cancion = Cancion\n",
    "        self.Duracion = Duracion\n",
    "        self.Lyrics = Lyrics\n",
    "        self.Artista = Artista\n",
    "        self.Album = Album\n",
    "        self.Año = Año\n",
    "        self.Genero = Genero\n",
    "        self.Oyentes = Oyentes\n",
    "        self.Escritores = Escritores\n",
    "        self.Productores = Productores\n",
    "        self.Disquera = Disquera\n",
    "\n",
    "    def describe(self):\n",
    "        print(\"Cancion: \",self.Cancion)\n",
    "        print(\"Duracion: \",self.Duracion)\n",
    "        print(\"Lyrics: \",self.Lyrics)\n",
    "        print(\"Artista: \",self.Artista)\n",
    "        print(\"Album: \",self.Album)\n",
    "        print(\"Año: \",self.Año)\n",
    "        print(\"Genero: \",self.Genero)\n",
    "        print(\"Oyentes: \",self.Oyentes)\n",
    "        print(\"Escritores: \",self.Escritores)\n",
    "        print(\"Productores: \",self.Productores)\n",
    "        print(\"Disquera: \",self.Disquera)\n"
   ]
  },
  {
   "cell_type": "code",
   "execution_count": 15,
   "metadata": {},
   "outputs": [
    {
     "name": "stdout",
     "output_type": "stream",
     "text": [
      "Cancion:  Espresso\n",
      "Duracion:  2:55\n",
      "Lyrics:  True\n",
      "Artista:  Sabrina Carpenter\n",
      "Album:  Shorn n Sweet\n",
      "Año:  2024\n",
      "Genero:  Pop\n",
      "Oyentes:  2,023,139,581\n",
      "Escritores:  Amy Allen, Julian Bunetta, Steph Jones\n",
      "Productores:  Julian Bunetta\n",
      "Disquera:  Island Records\n",
      "\n",
      "Cancion:  7 Rings\n",
      "Duracion:  2:58\n",
      "Lyrics:  True\n",
      "Artista:  Ariana Grande\n",
      "Album:  Thank U, Next\n",
      "Año:  2019\n",
      "Genero:  Pop\n",
      "Oyentes:  2,485,203,272\n",
      "Escritores:  Ariana Grande, Kimbrely Krysiuk, Oscar Hammerstein II, Richard Rogers, Tayla Parx, Tommy Brown, Victoria Monet, Charles Anderson, Michael Foster, Njomza Vitia\n",
      "Productores:  Tommy Brown, Charles Anderson, Michael Foster\n",
      "Disquera:  Republic Records\n",
      "\n"
     ]
    }
   ],
   "source": [
    "Cancion1 = Spotify(\"Espresso\",\"2:55\",\"True\",\"Sabrina Carpenter\",\"Shorn n Sweet\",2024,\"Pop\",\"2,023,139,581\",\"Amy Allen, Julian Bunetta, Steph Jones\",\"Julian Bunetta\",\"Island Records\\n\")\n",
    "Cancion1.describe()\n",
    "\n",
    "Cancion2 = Spotify(\"7 Rings\",\"2:58\",\"True\",\"Ariana Grande\",\"Thank U, Next\",2019,\"Pop\",\"2,485,203,272\",\"Ariana Grande, Kimbrely Krysiuk, Oscar Hammerstein II, Richard Rogers, Tayla Parx, Tommy Brown, Victoria Monet, Charles Anderson, Michael Foster, Njomza Vitia\",\"Tommy Brown, Charles Anderson, Michael Foster\",\"Republic Records\\n\")\n",
    "Cancion2.describe()"
   ]
  }
 ],
 "metadata": {
  "kernelspec": {
   "display_name": "Python 3",
   "language": "python",
   "name": "python3"
  },
  "language_info": {
   "codemirror_mode": {
    "name": "ipython",
    "version": 3
   },
   "file_extension": ".py",
   "mimetype": "text/x-python",
   "name": "python",
   "nbconvert_exporter": "python",
   "pygments_lexer": "ipython3",
   "version": "3.13.0"
  }
 },
 "nbformat": 4,
 "nbformat_minor": 2
}
