{
 "cells": [
  {
   "cell_type": "markdown",
   "metadata": {},
   "source": [
    "### **Metodos de Arreglos**\n",
    "\n",
    "#### Investigar 10 metodos diferentes para cada tipo de arreglos (Listas, Tuplas, Sets, Diccionarios)"
   ]
  },
  {
   "cell_type": "markdown",
   "metadata": {},
   "source": [
    "## Listas"
   ]
  },
  {
   "cell_type": "code",
   "execution_count": 40,
   "metadata": {},
   "outputs": [
    {
     "name": "stdout",
     "output_type": "stream",
     "text": [
      "[1, 2, 3, 4, 5, 6]\n"
     ]
    }
   ],
   "source": [
    "## 1 append: Agrega un elemento al final de la lista\n",
    "\n",
    "lista = [1, 2, 3, 4, 5]\n",
    "lista.append(6)\n",
    "print(lista)"
   ]
  },
  {
   "cell_type": "code",
   "execution_count": 1,
   "metadata": {},
   "outputs": [
    {
     "name": "stdout",
     "output_type": "stream",
     "text": [
      "[1, 2, 3, 4, 5, 6, 7, 8]\n"
     ]
    }
   ],
   "source": [
    "## 2 extend: Extiende la lista con otra lista\n",
    "\n",
    "lista = [1, 2, 3, 4, 5]\n",
    "lista.extend([6, 7, 8])\n",
    "print(lista)"
   ]
  },
  {
   "cell_type": "code",
   "execution_count": 2,
   "metadata": {},
   "outputs": [
    {
     "name": "stdout",
     "output_type": "stream",
     "text": [
      "[1, 2, 3, 4, 5, 6]\n"
     ]
    }
   ],
   "source": [
    "## 3 insert: Inserta un elemento en un indice especifico\n",
    "\n",
    "lista = [1, 2, 3, 4, 5]\n",
    "lista.insert(5, 6)\n",
    "print(lista)"
   ]
  },
  {
   "cell_type": "code",
   "execution_count": 3,
   "metadata": {},
   "outputs": [
    {
     "name": "stdout",
     "output_type": "stream",
     "text": [
      "[1, 2, 4, 5]\n"
     ]
    }
   ],
   "source": [
    "## 4 remove: Elimina l aprimera aparicion de un elemento\n",
    "\n",
    "lista = [1, 2, 3, 4, 5]\n",
    "lista.remove(3)\n",
    "print(lista)"
   ]
  },
  {
   "cell_type": "code",
   "execution_count": 4,
   "metadata": {},
   "outputs": [
    {
     "name": "stdout",
     "output_type": "stream",
     "text": [
      "[1, 2, 3, 5]\n",
      "4\n"
     ]
    }
   ],
   "source": [
    "## 5 pop: Elimina y devuelve un elemento en un indice especifico.\n",
    "\n",
    "lista = [1, 2, 3, 4, 5]\n",
    "numero = lista.pop(3)\n",
    "print(lista)\n",
    "print(numero)"
   ]
  },
  {
   "cell_type": "code",
   "execution_count": 5,
   "metadata": {},
   "outputs": [
    {
     "name": "stdout",
     "output_type": "stream",
     "text": [
      "2\n"
     ]
    }
   ],
   "source": [
    "## 6 index: Devuelve el indice de un elemento.\n",
    "\n",
    "lista = [1, 2, 3, 4, 5]\n",
    "numero = lista.index(3)\n",
    "print(numero)"
   ]
  },
  {
   "cell_type": "code",
   "execution_count": 6,
   "metadata": {},
   "outputs": [
    {
     "name": "stdout",
     "output_type": "stream",
     "text": [
      "2\n"
     ]
    }
   ],
   "source": [
    "## 7 count: Cuenta cuantas veces aparece un elemento en la lista.\n",
    "\n",
    "lista = [1, 2, 3, 4, 5, 3]\n",
    "numero = lista.count(3)\n",
    "print(numero)"
   ]
  },
  {
   "cell_type": "code",
   "execution_count": 7,
   "metadata": {},
   "outputs": [
    {
     "name": "stdout",
     "output_type": "stream",
     "text": [
      "[1, 2, 3, 4, 5]\n"
     ]
    }
   ],
   "source": [
    "## 8 sort: Ordena la lista en orden ascendente.\n",
    "\n",
    "lista = [1, 2, 3, 4, 5]\n",
    "lista.sort()\n",
    "print(lista)"
   ]
  },
  {
   "cell_type": "code",
   "execution_count": 8,
   "metadata": {},
   "outputs": [
    {
     "name": "stdout",
     "output_type": "stream",
     "text": [
      "[5, 4, 3, 2, 1]\n"
     ]
    }
   ],
   "source": [
    "## 9 reverse: Invierte el orden de la lista.\n",
    "\n",
    "lista = [1, 2, 3, 4, 5]\n",
    "lista.reverse()\n",
    "print(lista)"
   ]
  },
  {
   "cell_type": "code",
   "execution_count": 9,
   "metadata": {},
   "outputs": [
    {
     "name": "stdout",
     "output_type": "stream",
     "text": [
      "[1, 2, 3, 4, 5]\n"
     ]
    }
   ],
   "source": [
    "## 10 copy: Crea una copia de la lista\n",
    "\n",
    "lista = [1, 2, 3, 4, 5]\n",
    "lista2 = lista.copy()\n",
    "print(lista2)"
   ]
  },
  {
   "cell_type": "markdown",
   "metadata": {},
   "source": [
    "## Tuplas"
   ]
  },
  {
   "cell_type": "code",
   "execution_count": 10,
   "metadata": {},
   "outputs": [
    {
     "name": "stdout",
     "output_type": "stream",
     "text": [
      "<class 'tuple'>\n"
     ]
    }
   ],
   "source": [
    "## 1 clear: Elimina todos los elementos de la tupla.\n",
    "\n",
    "tupla = [1, 2, 3, 4, 5]\n",
    "tupla.clear()\n",
    "print(tuple)"
   ]
  },
  {
   "cell_type": "code",
   "execution_count": 11,
   "metadata": {},
   "outputs": [
    {
     "name": "stdout",
     "output_type": "stream",
     "text": [
      "2\n"
     ]
    }
   ],
   "source": [
    "## 2 count: Cuenta cuantas veces aparece un elemento en la tupla.\n",
    "\n",
    "tupla = [1, 2, 3, 4, 5, 3]\n",
    "numero = tupla.count(3)\n",
    "print(numero)"
   ]
  },
  {
   "cell_type": "code",
   "execution_count": 12,
   "metadata": {},
   "outputs": [
    {
     "name": "stdout",
     "output_type": "stream",
     "text": [
      "2\n"
     ]
    }
   ],
   "source": [
    "## 3 index: Devuelve el indice de la primera aparicion de un elemento.\n",
    "\n",
    "tupla = [1, 2, 3, 4, 5]\n",
    "numero = tupla.index(3)\n",
    "print(numero)"
   ]
  },
  {
   "cell_type": "code",
   "execution_count": 13,
   "metadata": {},
   "outputs": [
    {
     "name": "stdout",
     "output_type": "stream",
     "text": [
      "[1, 2, 3, 4, 5]\n"
     ]
    }
   ],
   "source": [
    "## 4 sorted: Devuelve una lista ordenada de la tupla.\n",
    "\n",
    "tupla = [5, 4, 3, 2, 1]\n",
    "print(sorted(tupla))"
   ]
  },
  {
   "cell_type": "code",
   "execution_count": 14,
   "metadata": {},
   "outputs": [
    {
     "name": "stdout",
     "output_type": "stream",
     "text": [
      "True\n"
     ]
    }
   ],
   "source": [
    "## 5 in: Devuelve True si un elemento esta en la tupla.\n",
    "\n",
    "tupla = [1, 2, 3, 4, 5]\n",
    "print(3 in tupla)"
   ]
  },
  {
   "cell_type": "code",
   "execution_count": 15,
   "metadata": {},
   "outputs": [
    {
     "name": "stdout",
     "output_type": "stream",
     "text": [
      "[1, 2, 3, 4, 5, 6, 7, 8]\n"
     ]
    }
   ],
   "source": [
    "## 6 +: Concatena dos tuplas.\n",
    "\n",
    "tupla = [1, 2, 3, 4, 5]\n",
    "tupla2 = [6, 7, 8]\n",
    "print(tupla + tupla2)"
   ]
  },
  {
   "cell_type": "code",
   "execution_count": 16,
   "metadata": {},
   "outputs": [
    {
     "name": "stdout",
     "output_type": "stream",
     "text": [
      "[1, 2, 3, 4, 5, 1, 2, 3, 4, 5, 1, 2, 3, 4, 5]\n"
     ]
    }
   ],
   "source": [
    "## 7 Repetición de tuplas con *\n",
    "\n",
    "tupla = [1, 2, 3, 4, 5]\n",
    "print(tupla * 3)"
   ]
  },
  {
   "cell_type": "code",
   "execution_count": 17,
   "metadata": {},
   "outputs": [
    {
     "name": "stdout",
     "output_type": "stream",
     "text": [
      "5\n"
     ]
    }
   ],
   "source": [
    "## 8  len: Devuelve la longitud de la tupla.\n",
    "\n",
    "tupla = [1, 2, 3, 4, 5]\n",
    "print(len(tupla))"
   ]
  },
  {
   "cell_type": "code",
   "execution_count": 18,
   "metadata": {},
   "outputs": [
    {
     "name": "stdout",
     "output_type": "stream",
     "text": [
      "(1, 2, 3, 4, 5)\n"
     ]
    }
   ],
   "source": [
    "## 9 tuple: Convierte una lista en una tupla.\n",
    "\n",
    "lista = [1, 2, 3, 4, 5]\n",
    "tupla = tuple(lista)\n",
    "print(tupla)"
   ]
  },
  {
   "cell_type": "code",
   "execution_count": 19,
   "metadata": {},
   "outputs": [
    {
     "name": "stdout",
     "output_type": "stream",
     "text": [
      "5\n"
     ]
    }
   ],
   "source": [
    "## 10 max: Devuelve el elemento mas grande de la tupla.\n",
    "\n",
    "tupla = [1, 2, 3, 4, 5]\n",
    "print(max(tupla))"
   ]
  },
  {
   "cell_type": "markdown",
   "metadata": {},
   "source": [
    "## Conjuntos (Sets)"
   ]
  },
  {
   "cell_type": "code",
   "execution_count": 20,
   "metadata": {},
   "outputs": [
    {
     "name": "stdout",
     "output_type": "stream",
     "text": [
      "{1, 2, 3, 4, 5, 6}\n"
     ]
    }
   ],
   "source": [
    "## 1 add: Agrega un elemento al conjunto.\n",
    "\n",
    "conjunto = {1, 2, 3, 4, 5}\n",
    "conjunto.add(6)\n",
    "print(conjunto)"
   ]
  },
  {
   "cell_type": "code",
   "execution_count": 21,
   "metadata": {},
   "outputs": [
    {
     "name": "stdout",
     "output_type": "stream",
     "text": [
      "{1, 2, 4, 5}\n"
     ]
    }
   ],
   "source": [
    "## 2 remove: Elimina un elemento del conjunto.\n",
    "\n",
    "conjunto = {1, 2, 3, 4, 5}\n",
    "conjunto.remove(3)\n",
    "print(conjunto)"
   ]
  },
  {
   "cell_type": "code",
   "execution_count": 22,
   "metadata": {},
   "outputs": [
    {
     "name": "stdout",
     "output_type": "stream",
     "text": [
      "{1, 2, 3, 5}\n"
     ]
    }
   ],
   "source": [
    "## 3 discard: Elimina un elemento sin lanzar error si no existe.\n",
    "\n",
    "conjunto = {1, 2, 3, 4, 5}\n",
    "conjunto.discard(4)\n",
    "print(conjunto)"
   ]
  },
  {
   "cell_type": "code",
   "execution_count": 23,
   "metadata": {},
   "outputs": [
    {
     "name": "stdout",
     "output_type": "stream",
     "text": [
      "{2, 3, 4, 5}\n"
     ]
    }
   ],
   "source": [
    "## 4 pop: Elimina y devuelve un elemtno aleatorio.\n",
    "\n",
    "conjunto = {1, 2, 3, 4, 5}\n",
    "numero = conjunto.pop()\n",
    "print(conjunto)"
   ]
  },
  {
   "cell_type": "code",
   "execution_count": 24,
   "metadata": {},
   "outputs": [
    {
     "name": "stdout",
     "output_type": "stream",
     "text": [
      "set()\n"
     ]
    }
   ],
   "source": [
    "## 5 clear: Elimina todos los elementos.\n",
    "\n",
    "conjunto = {1, 2, 3, 4, 5}\n",
    "conjunto.clear()\n",
    "print(conjunto)"
   ]
  },
  {
   "cell_type": "code",
   "execution_count": 25,
   "metadata": {},
   "outputs": [
    {
     "name": "stdout",
     "output_type": "stream",
     "text": [
      "{1, 2, 3, 4, 5, 6, 7, 8}\n"
     ]
    }
   ],
   "source": [
    "## 6 union: Une dos conjuntos.\n",
    "\n",
    "conjunto = {1, 2, 3, 4, 5}\n",
    "conjunto2 = {6, 7, 8}\n",
    "print(conjunto.union(conjunto2))"
   ]
  },
  {
   "cell_type": "code",
   "execution_count": 26,
   "metadata": {},
   "outputs": [
    {
     "name": "stdout",
     "output_type": "stream",
     "text": [
      "{4, 5}\n"
     ]
    }
   ],
   "source": [
    "## intersection: Encuentra la interseccion de dos conjuntos.\n",
    "\n",
    "conjunto = {1, 2, 3, 4, 5}\n",
    "conjunto2 = {4, 5, 6, 7, 8}\n",
    "print(conjunto.intersection(conjunto2))"
   ]
  },
  {
   "cell_type": "code",
   "execution_count": 27,
   "metadata": {},
   "outputs": [
    {
     "name": "stdout",
     "output_type": "stream",
     "text": [
      "{1, 2, 3}\n"
     ]
    }
   ],
   "source": [
    "## difference: Encuentra la diferencia de dos conjuntos.\n",
    "\n",
    "conjunto = {1, 2, 3, 4, 5}\n",
    "conjunto2 = {4, 5, 6, 7, 8}\n",
    "print(conjunto.difference(conjunto2))"
   ]
  },
  {
   "cell_type": "code",
   "execution_count": 28,
   "metadata": {},
   "outputs": [
    {
     "name": "stdout",
     "output_type": "stream",
     "text": [
      "True\n"
     ]
    }
   ],
   "source": [
    "## issubset: Devuelve True si un conjunto es subconjunto de otro.\n",
    "\n",
    "conjunto = {1, 2, 3, 4, 5}\n",
    "conjunto2 = {4, 5}\n",
    "print(conjunto2.issubset(conjunto))"
   ]
  },
  {
   "cell_type": "code",
   "execution_count": 29,
   "metadata": {},
   "outputs": [
    {
     "name": "stdout",
     "output_type": "stream",
     "text": [
      "True\n"
     ]
    }
   ],
   "source": [
    "## issuperset: Devuelve True si un conjunto es superconjunto de otro.\n",
    "\n",
    "conjunto = {1, 2, 3, 4, 5}\n",
    "conjunto2 = {4, 5}\n",
    "print(conjunto.issuperset(conjunto2))"
   ]
  },
  {
   "cell_type": "markdown",
   "metadata": {},
   "source": [
    "### Metodos Diccionarios (Dict)"
   ]
  },
  {
   "cell_type": "code",
   "execution_count": 30,
   "metadata": {},
   "outputs": [
    {
     "name": "stdout",
     "output_type": "stream",
     "text": [
      "1\n"
     ]
    }
   ],
   "source": [
    "## 1 get: Devuelve el valor de una clave.\n",
    "\n",
    "diccionario = {'a': 1, 'b': 2, 'c': 3}\n",
    "print(diccionario.get('a'))"
   ]
  },
  {
   "cell_type": "code",
   "execution_count": 31,
   "metadata": {},
   "outputs": [
    {
     "name": "stdout",
     "output_type": "stream",
     "text": [
      "dict_keys(['a', 'b', 'c'])\n"
     ]
    }
   ],
   "source": [
    "## 2 keys: Devuelve las claves del diccionario.\n",
    "\n",
    "diccionario = {'a': 1, 'b': 2, 'c': 3}\n",
    "print(diccionario.keys())"
   ]
  },
  {
   "cell_type": "code",
   "execution_count": 32,
   "metadata": {},
   "outputs": [
    {
     "name": "stdout",
     "output_type": "stream",
     "text": [
      "dict_values([1, 2, 3])\n"
     ]
    }
   ],
   "source": [
    "# 3 values: Devuelve los valores del diccionario.\n",
    "\n",
    "diccionario = {'a': 1, 'b': 2, 'c': 3}\n",
    "print(diccionario.values())"
   ]
  },
  {
   "cell_type": "code",
   "execution_count": 33,
   "metadata": {},
   "outputs": [
    {
     "name": "stdout",
     "output_type": "stream",
     "text": [
      "dict_items([('a', 1), ('b', 2), ('c', 3)])\n"
     ]
    }
   ],
   "source": [
    "# 4 items: Devuelve los items del diccionario.\n",
    "\n",
    "diccionario = {'a': 1, 'b': 2, 'c': 3}\n",
    "print(diccionario.items())"
   ]
  },
  {
   "cell_type": "code",
   "execution_count": 34,
   "metadata": {},
   "outputs": [
    {
     "name": "stdout",
     "output_type": "stream",
     "text": [
      "{'b': 2, 'c': 3}\n"
     ]
    }
   ],
   "source": [
    "# 5 pop: Elimina un elemento del diccionario. y devuelve su valor.\n",
    "\n",
    "diccionario = {'a': 1, 'b': 2, 'c': 3}\n",
    "numero = diccionario.pop('a')\n",
    "print(diccionario)"
   ]
  },
  {
   "cell_type": "code",
   "execution_count": 35,
   "metadata": {},
   "outputs": [
    {
     "name": "stdout",
     "output_type": "stream",
     "text": [
      "{'a': 1, 'b': 2}\n"
     ]
    }
   ],
   "source": [
    "# 6 popitem: Elimina y devuelve el ultimo elemento del diccionario.\n",
    "\n",
    "diccionario = {'a': 1, 'b': 2, 'c': 3}\n",
    "item = diccionario.popitem()\n",
    "print(diccionario)"
   ]
  },
  {
   "cell_type": "code",
   "execution_count": 36,
   "metadata": {},
   "outputs": [
    {
     "name": "stdout",
     "output_type": "stream",
     "text": [
      "{'a': 1, 'b': 2, 'c': 3, 'd': 4, 'e': 5}\n"
     ]
    }
   ],
   "source": [
    "# 7 update: Actualiza el diccionario con otro diccionario.\n",
    "\n",
    "diccionario = {'a': 1, 'b': 2, 'c': 3}\n",
    "diccionario2 = {'d': 4, 'e': 5}\n",
    "diccionario.update(diccionario2)\n",
    "print(diccionario)"
   ]
  },
  {
   "cell_type": "code",
   "execution_count": 37,
   "metadata": {},
   "outputs": [
    {
     "name": "stdout",
     "output_type": "stream",
     "text": [
      "1\n",
      "4\n"
     ]
    }
   ],
   "source": [
    "# 8 setdefault: Devuelve el valor de una clave, si no existe la crea.\n",
    "\n",
    "diccionario = {'a': 1, 'b': 2, 'c': 3}\n",
    "print(diccionario.setdefault('a'))\n",
    "print(diccionario.setdefault('d', 4))"
   ]
  },
  {
   "cell_type": "code",
   "execution_count": 38,
   "metadata": {},
   "outputs": [
    {
     "name": "stdout",
     "output_type": "stream",
     "text": [
      "{}\n"
     ]
    }
   ],
   "source": [
    "# 9 clear: Elimina todos los elementos del diccionario.\n",
    "\n",
    "diccionario = {'a': 1, 'b': 2, 'c': 3}\n",
    "diccionario.clear()\n",
    "print(diccionario)"
   ]
  },
  {
   "cell_type": "code",
   "execution_count": 39,
   "metadata": {},
   "outputs": [
    {
     "name": "stdout",
     "output_type": "stream",
     "text": [
      "{'a': 1, 'b': 2, 'c': 3}\n"
     ]
    }
   ],
   "source": [
    "# 10 copy: Crea una copia del diccionario.\n",
    "\n",
    "diccionario = {'a': 1, 'b': 2, 'c': 3}\n",
    "diccionario2 = diccionario.copy()\n",
    "print(diccionario2)"
   ]
  }
 ],
 "metadata": {
  "kernelspec": {
   "display_name": "Python 3",
   "language": "python",
   "name": "python3"
  },
  "language_info": {
   "codemirror_mode": {
    "name": "ipython",
    "version": 3
   },
   "file_extension": ".py",
   "mimetype": "text/x-python",
   "name": "python",
   "nbconvert_exporter": "python",
   "pygments_lexer": "ipython3",
   "version": "3.13.0"
  }
 },
 "nbformat": 4,
 "nbformat_minor": 2
}
