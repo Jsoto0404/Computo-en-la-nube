{
 "cells": [
  {
   "cell_type": "markdown",
   "metadata": {},
   "source": [
    "## Tema 3. Control de Flujo"
   ]
  },
  {
   "cell_type": "markdown",
   "metadata": {},
   "source": [
    "### **1. Condicionales** *`if`, `elif`, `else`*"
   ]
  },
  {
   "cell_type": "code",
   "execution_count": null,
   "metadata": {},
   "outputs": [],
   "source": [
    "edad = 18\n",
    "\n",
    "if edad < 18:\n",
    "    print(\"Eres menor de edad.\")\n",
    "elif edad == 18:\n",
    "    print(\"Tienes justo 18 años.\")\n",
    "else:\n",
    "    print(\"Eres Mayor de edad.\")"
   ]
  },
  {
   "cell_type": "markdown",
   "metadata": {},
   "source": [
    "### **2. Bucles** *`for`, `while`*"
   ]
  },
  {
   "cell_type": "code",
   "execution_count": 13,
   "metadata": {},
   "outputs": [
    {
     "name": "stdout",
     "output_type": "stream",
     "text": [
      "manzana\n",
      "banana\n",
      "cereza\n"
     ]
    }
   ],
   "source": [
    "# iteración por listas.\n",
    "\n",
    "frutas = [\"manzana\", \"banana\", \"cereza\"]\n",
    "\n",
    "for fruta in frutas:\n",
    "    print(fruta)"
   ]
  },
  {
   "cell_type": "code",
   "execution_count": null,
   "metadata": {},
   "outputs": [],
   "source": [
    "# iteración por rango\n",
    "\n",
    "for i in range (10):\n",
    "    print(i)"
   ]
  },
  {
   "cell_type": "code",
   "execution_count": null,
   "metadata": {},
   "outputs": [],
   "source": [
    "# for con un enumerate() (indice y el elemento de la lista)\n",
    "\n",
    "frutas = [\"manzana\", \"banana\", \"cereza\"]\n",
    "\n",
    "for i, fruta in enumerate(frutas):\n",
    "    print(f\"La fruta {fruta} tiene el indice {i}\")"
   ]
  },
  {
   "cell_type": "code",
   "execution_count": null,
   "metadata": {},
   "outputs": [],
   "source": [
    "# for con un zip() (itera sobre dos listas al mismo tiempo)\n",
    "\n",
    "frutas = [\"manzana\", \"banana\", \"cereza\"]\n",
    "colores = [\"rojo\", \"amarillo\", \"rojo\"]\n",
    "\n",
    "for fruta, color in zip(frutas, colores):\n",
    "    print(f\"La fruta {fruta} es de color {color}\")"
   ]
  },
  {
   "cell_type": "code",
   "execution_count": null,
   "metadata": {},
   "outputs": [],
   "source": [
    "#for con comprension de listas\n",
    "# se puede usar para crear una nueva lista a partir de una existente.\n",
    "\n",
    "frutas = [\"manzana\", \"banana\", \"cereza\"]\n",
    "\n",
    "nueva_lista = [fruta.upper() for fruta in frutas]\n",
    "\n",
    "print(nueva_lista)"
   ]
  },
  {
   "cell_type": "code",
   "execution_count": null,
   "metadata": {},
   "outputs": [],
   "source": [
    "# dict comprension\n",
    "\n",
    "diccionario = {\"manzana\":10, \"banana\":20, \"cereza\":30}\n",
    "\n",
    "for fruta, cantidad in diccionario.items():\n",
    "    print(f\"Tengo {cantidad} {fruta}\")"
   ]
  },
  {
   "cell_type": "code",
   "execution_count": null,
   "metadata": {},
   "outputs": [],
   "source": [
    "# for simulado, while\n",
    "\n",
    "frutas = [\"manzana\", \"banana\", \"cereza\"]\n",
    "i = 0\n",
    "\n",
    "while True:\n",
    "    if i >= len(frutas):\n",
    "        break\n",
    "    print(frutas[i])\n",
    "    i += 1"
   ]
  }
 ],
 "metadata": {
  "kernelspec": {
   "display_name": "Python 3",
   "language": "python",
   "name": "python3"
  },
  "language_info": {
   "codemirror_mode": {
    "name": "ipython",
    "version": 3
   },
   "file_extension": ".py",
   "mimetype": "text/x-python",
   "name": "python",
   "nbconvert_exporter": "python",
   "pygments_lexer": "ipython3",
   "version": "3.13.0"
  }
 },
 "nbformat": 4,
 "nbformat_minor": 2
}
