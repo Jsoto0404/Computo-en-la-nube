{
 "cells": [
  {
   "cell_type": "markdown",
   "metadata": {},
   "source": [
    "#### Ejercicio práctico 1: Escribe un programa que solicite al usuario tres números y muestre la división de ambos, manejando posibles errores."
   ]
  },
  {
   "cell_type": "code",
   "execution_count": 1,
   "metadata": {},
   "outputs": [
    {
     "name": "stdout",
     "output_type": "stream",
     "text": [
      "El resultado de la multiplicación es:  125.0\n"
     ]
    }
   ],
   "source": [
    "def multiplicacion():\n",
    "    try:\n",
    "        num1 = float(input(\"Ingrese el primer número: \"))\n",
    "        num2 = float(input(\"Ingrese el segundo número: \"))\n",
    "        num3 = float(input(\"Ingrese el tercer número: \"))\n",
    "\n",
    "        resultado = num1 * num2 * num3\n",
    "        print(\"El resultado de la multiplicación es: \", resultado)\n",
    "\n",
    "    except ValueError:\n",
    "        print(\"Error, el valor ingresado no es un número\")\n",
    "        multiplicacion()\n",
    "    \n",
    "    except Exception as e:\n",
    "        print(f\"Ocurrio algo inesperado: {e}\")\n",
    "        multiplicacion()\n",
    "\n",
    "multiplicacion()"
   ]
  }
 ],
 "metadata": {
  "kernelspec": {
   "display_name": "Python 3",
   "language": "python",
   "name": "python3"
  },
  "language_info": {
   "codemirror_mode": {
    "name": "ipython",
    "version": 3
   },
   "file_extension": ".py",
   "mimetype": "text/x-python",
   "name": "python",
   "nbconvert_exporter": "python",
   "pygments_lexer": "ipython3",
   "version": "3.13.0"
  }
 },
 "nbformat": 4,
 "nbformat_minor": 2
}
