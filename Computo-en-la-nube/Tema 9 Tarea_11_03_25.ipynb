{
 "cells": [
  {
   "cell_type": "markdown",
   "metadata": {},
   "source": [
    "##### Crear un sistema que me permita trabajar con las clases Netflix o Spotify, Este sistema, debera obtener los datos de los objetos instanciados, crear un archivo .txt con base al nombre, otro archivo .txt con las categorias y los de la cancion o pelicula, este ultimo archivo debera contener todos los datos. Los archivos de nombre deberan estar en una carpeta llamada canciones o peliculas, y los archivos de categorias en una carpeta llamada categorias. Pistas: El primer archivo con el nombre es un \"w\" El segundo archivo que añade por categoria es un \"a\"."
   ]
  },
  {
   "cell_type": "code",
   "execution_count": 1,
   "metadata": {},
   "outputs": [
    {
     "name": "stdout",
     "output_type": "stream",
     "text": [
      "Archivos y carpetas generados correctamente.\n"
     ]
    }
   ],
   "source": [
    "import os\n",
    "\n",
    "class Cancion:\n",
    "    def __init__(self, titulo, duracion, lyrics, artista, album, year, genero, oyentes, escritores, productores, disquera):\n",
    "        self.titulo = titulo\n",
    "        self.duracion = duracion\n",
    "        self.lyrics = lyrics\n",
    "        self.artista = artista\n",
    "        self.album = album\n",
    "        self.year = year\n",
    "        self.genero = genero\n",
    "        self.oyentes = oyentes\n",
    "        self.escritores = escritores\n",
    "        self.productores = productores\n",
    "        self.disquera = disquera\n",
    "\n",
    "    def datos_cancion(self):\n",
    "        return {\n",
    "            \"Titulo\": self.titulo,\n",
    "            \"Duracion\": self.duracion,\n",
    "            \"Lyrics\": self.lyrics,\n",
    "            \"Artista\": self.artista,\n",
    "            \"Album\": self.album,\n",
    "            \"Año\": self.year,\n",
    "            \"Genero\": self.genero,\n",
    "            \"Oyentes\": self.oyentes,\n",
    "            \"Escritores\": self.escritores,\n",
    "            \"Productores\": self.productores,\n",
    "            \"Disquera\": self.disquera\n",
    "        }\n",
    "\n",
    "def crear_archivos(cancion):\n",
    "    os.makedirs(\"Canciones\", exist_ok=True)\n",
    "    archivo_nombre = os.path.join(\"Canciones\", f\"{cancion.titulo}.txt\")\n",
    "    with open(archivo_nombre, \"w\") as f:\n",
    "        for clave, valor in cancion.datos_cancion().items():\n",
    "            f.write(f\"{clave}: {valor}\\n\")\n",
    "    \n",
    "    carpeta_genero = os.path.join(\"Genero\", cancion.genero)\n",
    "    os.makedirs(carpeta_genero, exist_ok=True)\n",
    "    archivo_genero = os.path.join(carpeta_genero, \"datos_canciones.txt\")\n",
    "    \n",
    "    with open(archivo_genero, \"a\") as f:\n",
    "        for clave, valor in cancion.datos_cancion().items():\n",
    "            f.write(f\"{clave}: {valor}\\n\")\n",
    "        f.write(\"-\"*40 + \"\\n\")\n",
    "\n",
    "def main():\n",
    "    canciones = [\n",
    "        Cancion(\"Revolving door\", \"3:00\", \"True\", \"Tate McRae\", \"So Close To What\", \"2025\", \"Pop\", \"75,561,270\", \"Grant Boutin, Jualia Michaels, Ryan Tedder, Tate McRae\", \"Ryan Tedder, Grant Boutin\", \"RCA Records Label\"),\n",
    "        Cancion(\"NISSAN ALTIMA\", \"2:06\", \"True\", \"Doechii\", \"Alligator Bites Never Heal\", \"2024\", \"Hip-Hop/Rap\", \"125,534,969\", \"Jaylah Hickmon, Randle Markus Alandrus\", \"Childish Major\", \"Capitol Records\"),\n",
    "        Cancion(\"Sympathy is a knife\", \"2:34\", \"True\", \"Charlie xcx, Ariana Grande\", \"Brat and it's completely different but also still brat\", \"2024\", \"Electronic\", \"69,106,875\", \"Ariana Grande, Charlotte Aitchison, Finn Keane, Jonathan Christopher Shave\", \"Finn Keane, Charli xcx\", \"Atlantic Records\"),\n",
    "    ]\n",
    "    \n",
    "    for cancion in canciones:\n",
    "        crear_archivos(cancion)\n",
    "    \n",
    "    print(\"Archivos y carpetas generados correctamente.\")\n",
    "\n",
    "if __name__ == \"__main__\":\n",
    "    main()\n"
   ]
  }
 ],
 "metadata": {
  "kernelspec": {
   "display_name": "Python 3",
   "language": "python",
   "name": "python3"
  },
  "language_info": {
   "codemirror_mode": {
    "name": "ipython",
    "version": 3
   },
   "file_extension": ".py",
   "mimetype": "text/x-python",
   "name": "python",
   "nbconvert_exporter": "python",
   "pygments_lexer": "ipython3",
   "version": "3.13.0"
  }
 },
 "nbformat": 4,
 "nbformat_minor": 2
}
