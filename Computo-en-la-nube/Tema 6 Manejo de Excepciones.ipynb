{
 "cells": [
  {
   "cell_type": "markdown",
   "metadata": {},
   "source": [
    "## Tema 6. Manejo de Excepciones"
   ]
  },
  {
   "cell_type": "code",
   "execution_count": null,
   "metadata": {},
   "outputs": [],
   "source": [
    "# Bloque try y except\n",
    "\n",
    "try:\n",
    "    numero = int(input(\"Introduce un número: \"))\n",
    "    resultado = 10 / numero\n",
    "    print(resultado)\n",
    "except ZeroDivisionError:\n",
    "    print(\"No puedes dividir por cero.\")\n",
    "except ValueError:\n",
    "    print(\"Debes ingresar un número válido.\")"
   ]
  }
 ],
 "metadata": {
  "kernelspec": {
   "display_name": "Python 3",
   "language": "python",
   "name": "python3"
  },
  "language_info": {
   "codemirror_mode": {
    "name": "ipython",
    "version": 3
   },
   "file_extension": ".py",
   "mimetype": "text/x-python",
   "name": "python",
   "nbconvert_exporter": "python",
   "pygments_lexer": "ipython3",
   "version": "3.13.0"
  }
 },
 "nbformat": 4,
 "nbformat_minor": 2
}
