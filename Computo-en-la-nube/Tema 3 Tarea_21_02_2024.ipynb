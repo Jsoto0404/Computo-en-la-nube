{
 "cells": [
  {
   "cell_type": "code",
   "execution_count": 1,
   "metadata": {},
   "outputs": [
    {
     "name": "stdout",
     "output_type": "stream",
     "text": [
      "['Manzana', 'Banana', 'Cereza']\n"
     ]
    }
   ],
   "source": [
    "# 1. capitalize: Capitaliza la primera letra.\n",
    "\n",
    "frutas = [\"manzana\", \"banana\", \"cereza\"]\n",
    "\n",
    "nueva_lista = [fruta.capitalize() for fruta in frutas]\n",
    "\n",
    "print(nueva_lista)\n"
   ]
  },
  {
   "cell_type": "code",
   "execution_count": 2,
   "metadata": {},
   "outputs": [
    {
     "name": "stdout",
     "output_type": "stream",
     "text": [
      "['manzana', 'banana', 'cereza']\n"
     ]
    }
   ],
   "source": [
    "# 2. casefold: Versión en minúsculas ideal para comparaciones insensibles a mayúsculas.\n",
    "\n",
    "frutas = [\"Manzana\", \"BANANA\", \"CeReZa\"]\n",
    "\n",
    "nueva_lista = [fruta.casefold() for fruta in frutas]\n",
    "\n",
    "print(nueva_lista)\n"
   ]
  },
  {
   "cell_type": "code",
   "execution_count": 3,
   "metadata": {},
   "outputs": [
    {
     "name": "stdout",
     "output_type": "stream",
     "text": [
      "['******manzana*******', '*******banana*******', '*******cereza*******']\n"
     ]
    }
   ],
   "source": [
    "# 3. center: Centra cada fruta en un ancho de 20 caracteres, rellenando con \"*\"\n",
    "\n",
    "frutas = [\"manzana\", \"banana\", \"cereza\"]\n",
    "\n",
    "nueva_lista = [fruta.center(20, \"*\") for fruta in frutas]\n",
    "print(nueva_lista)"
   ]
  },
  {
   "cell_type": "code",
   "execution_count": 4,
   "metadata": {},
   "outputs": [
    {
     "name": "stdout",
     "output_type": "stream",
     "text": [
      "[3, 3, 1]\n"
     ]
    }
   ],
   "source": [
    "# 4. count: Cuenta cuántas veces aparece la letra \"a\" en cada fruta\n",
    "\n",
    "frutas = [\"manzana\", \"banana\", \"cereza\"]\n",
    "\n",
    "nueva_lista = [fruta.count(\"a\") for fruta in frutas]\n",
    "print(nueva_lista)"
   ]
  },
  {
   "cell_type": "code",
   "execution_count": 5,
   "metadata": {},
   "outputs": [
    {
     "name": "stdout",
     "output_type": "stream",
     "text": [
      "[b'manzana', b'banana', b'cereza']\n"
     ]
    }
   ],
   "source": [
    "# 5. encode: Convierte cada fruta a bytes con la codificación UTF-8\n",
    "\n",
    "frutas = [\"manzana\", \"banana\", \"cereza\"]\n",
    "\n",
    "nueva_lista = [fruta.encode(\"utf-8\") for fruta in frutas]\n",
    "print(nueva_lista)"
   ]
  },
  {
   "cell_type": "code",
   "execution_count": 6,
   "metadata": {},
   "outputs": [
    {
     "name": "stdout",
     "output_type": "stream",
     "text": [
      "['manzana   ', 'banana    ', 'cereza']\n"
     ]
    }
   ],
   "source": [
    "# 6 (7). expandtabs: Reemplaza los tabuladores con espacios (tamaño de tabulación = 10)\n",
    "\n",
    "frutas = [\"manzana\\t\", \"banana\\t\", \"cereza\"]\n",
    "\n",
    "nueva_lista = [fruta.expandtabs(10) for fruta in frutas]\n",
    "print(nueva_lista)"
   ]
  },
  {
   "cell_type": "code",
   "execution_count": 7,
   "metadata": {},
   "outputs": [
    {
     "name": "stdout",
     "output_type": "stream",
     "text": [
      "[1, 1, 5]\n"
     ]
    }
   ],
   "source": [
    "# 7 (8). find: Encuentra la posición más baja de la letra 'a' en cada fruta, o -1 si no existe\n",
    "\n",
    "frutas = [\"manzana\", \"banana\", \"cereza\"]\n",
    "\n",
    "nueva_lista = [fruta.find(\"a\") for fruta in frutas]\n",
    "print(nueva_lista)"
   ]
  },
  {
   "cell_type": "code",
   "execution_count": 8,
   "metadata": {},
   "outputs": [
    {
     "name": "stdout",
     "output_type": "stream",
     "text": [
      "['manzana es una fruta', 'banana es una fruta', 'cereza es una fruta']\n"
     ]
    }
   ],
   "source": [
    "# 8 (9). format: Formatea una cadena incluyendo los nombres de las frutas\n",
    "\n",
    "frutas = [\"manzana\", \"banana\", \"cereza\"]\n",
    "\n",
    "nueva_lista = [\"{} es una fruta\".format(fruta) for fruta in frutas]\n",
    "print(nueva_lista)"
   ]
  },
  {
   "cell_type": "code",
   "execution_count": 9,
   "metadata": {},
   "outputs": [
    {
     "name": "stdout",
     "output_type": "stream",
     "text": [
      "Frutas: manzana, banana, cereza\n"
     ]
    }
   ],
   "source": [
    "# 9 (10). format_map: Similar a format(), pero usando un diccionario\n",
    "\n",
    "frutas = {\"primera\": frutas[0], \"segunda\": frutas[1], \"tercera\": frutas[2]}\n",
    "nueva_lista = \"Frutas: {primera}, {segunda}, {tercera}\".format_map(frutas)\n",
    "print(nueva_lista)"
   ]
  },
  {
   "cell_type": "code",
   "execution_count": 10,
   "metadata": {},
   "outputs": [
    {
     "name": "stdout",
     "output_type": "stream",
     "text": [
      "[1, 1, 5]\n"
     ]
    }
   ],
   "source": [
    "# 10 (11). index: Encuentra la posición de la primera aparición de 'a' en cada fruta (error si no existe)\n",
    "\n",
    "frutas = [\"manzana\", \"banana\", \"cereza\"]\n",
    "\n",
    "nueva_lista = [fruta.index(\"a\") for fruta in frutas]\n",
    "print(nueva_lista)"
   ]
  },
  {
   "cell_type": "code",
   "execution_count": 11,
   "metadata": {},
   "outputs": [
    {
     "name": "stdout",
     "output_type": "stream",
     "text": [
      "[True, True, True, True]\n"
     ]
    }
   ],
   "source": [
    "# 11 (12). isalnum: True si todos los caracteres son alfanuméricos (sin espacios ni símbolos)\n",
    "\n",
    "frutas = [\"manzana\", \"banana\", \"cereza\", \"manzana1\"]\n",
    "\n",
    "nueva_lista = [fruta.replace(\" \", \" \").isalnum() for fruta in frutas]\n",
    "print(nueva_lista)"
   ]
  },
  {
   "cell_type": "code",
   "execution_count": 12,
   "metadata": {},
   "outputs": [
    {
     "name": "stdout",
     "output_type": "stream",
     "text": [
      "[True, True, True, False]\n"
     ]
    }
   ],
   "source": [
    "# 12 (13). isalpha: True si todos los caracteres son letras (sin espacios ni números)\n",
    "\n",
    "frutas = [\"manzana\", \"banana\", \"cereza\", \"manzana1\"]\n",
    "\n",
    "nueva_lista = [fruta.replace(\" \", \" \").isalpha() for fruta in frutas]\n",
    "print(nueva_lista)"
   ]
  },
  {
   "cell_type": "code",
   "execution_count": 13,
   "metadata": {},
   "outputs": [
    {
     "name": "stdout",
     "output_type": "stream",
     "text": [
      "[True, True, True, True]\n"
     ]
    }
   ],
   "source": [
    "# 13 (14). isascii: True si todos los caracteres pertenecen al conjunto ASCII\n",
    "\n",
    "frutas = [\"manzana\", \"banana\", \"cereza\", \"manzana1\"]\n",
    "\n",
    "nueva_lista = [fruta.isascii() for fruta in frutas]\n",
    "print(nueva_lista)"
   ]
  },
  {
   "cell_type": "code",
   "execution_count": 14,
   "metadata": {},
   "outputs": [
    {
     "name": "stdout",
     "output_type": "stream",
     "text": [
      "[True, False, False, False]\n"
     ]
    }
   ],
   "source": [
    "# 14 (15). isdecimal: True si la cadena consiste sólo en dígitos decimales\n",
    "\n",
    "frutas = [\"123\", \"banana\", \"cereza\", \"manzana1\"]\n",
    "\n",
    "nueva_lista = [fruta.isdecimal() for fruta in frutas]\n",
    "print(nueva_lista)"
   ]
  },
  {
   "cell_type": "code",
   "execution_count": 15,
   "metadata": {},
   "outputs": [
    {
     "name": "stdout",
     "output_type": "stream",
     "text": [
      "[True, False, False, False]\n"
     ]
    }
   ],
   "source": [
    "# 15 (16). isdigit: True si todos los caracteres son dígitos\n",
    "\n",
    "frutas = [\"123\", \"banana\", \"cereza\", \"manzana1\"]\n",
    "\n",
    "nueva_lista = [fruta.isdigit() for fruta in frutas]\n",
    "print(nueva_lista)"
   ]
  }
 ],
 "metadata": {
  "kernelspec": {
   "display_name": "Python 3",
   "language": "python",
   "name": "python3"
  },
  "language_info": {
   "codemirror_mode": {
    "name": "ipython",
    "version": 3
   },
   "file_extension": ".py",
   "mimetype": "text/x-python",
   "name": "python",
   "nbconvert_exporter": "python",
   "pygments_lexer": "ipython3",
   "version": "3.13.0"
  }
 },
 "nbformat": 4,
 "nbformat_minor": 2
}
