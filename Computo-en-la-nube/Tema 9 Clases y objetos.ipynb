{
 "cells": [
  {
   "cell_type": "markdown",
   "metadata": {},
   "source": [
    "## Tema 9. Clases y objetos (Programación Orientada a Objetos)"
   ]
  },
  {
   "cell_type": "markdown",
   "metadata": {},
   "source": [
    "###### class = Fabrica\n",
    "###### constructores = maquinas de las fabricas\n",
    "###### parametros = objetos que maneja la maquina\n",
    "###### self = this = objeto especifico"
   ]
  },
  {
   "cell_type": "code",
   "execution_count": 16,
   "metadata": {},
   "outputs": [],
   "source": [
    "class Pokemon:\n",
    "    name = \"\"\n",
    "    level = 0\n",
    "    hp = 0\n",
    "    attackpower = 0\n",
    "    defense = 0\n",
    "\n",
    "    def describe(self):\n",
    "        print(\"Name: \", self.name)\n",
    "        print(\"Level: \", self.level)\n",
    "        print(\"HP: \", self.hp)\n",
    "        print(\"Attack: \", self.attackpower)\n",
    "        print(\"Defense: \", self.defense)\n",
    "    \n",
    "    def attack_fuego(self):\n",
    "        print(\"Grita* Tira fuego*\")\n",
    "\n",
    "    def attack_agua(self):\n",
    "        print(\"Grita* Tira agua*\")"
   ]
  },
  {
   "cell_type": "code",
   "execution_count": null,
   "metadata": {},
   "outputs": [],
   "source": [
    "pokemon1 = Pokemon()\n",
    "pokemon1.name = \"Charmander\"\n",
    "pokemon1.level = 5\n",
    "pokemon1.hp = 39\n",
    "pokemon1.attackpower = 52\n",
    "pokemon1.defense = 43\n",
    "pokemon1.describe()\n",
    "pokemon1.attack_fuego()"
   ]
  },
  {
   "cell_type": "code",
   "execution_count": null,
   "metadata": {},
   "outputs": [],
   "source": [
    "pokemon2 = Pokemon()\n",
    "pokemon2.name = \"Squirtle\"\n",
    "pokemon2.level = 5\n",
    "pokemon2.hp = 44\n",
    "pokemon2.attackpower = 48\n",
    "pokemon2.defense = 65\n",
    "pokemon2.describe()\n",
    "pokemon2.attack_agua()"
   ]
  },
  {
   "cell_type": "code",
   "execution_count": 1,
   "metadata": {},
   "outputs": [],
   "source": [
    "class Animal:\n",
    "    def __init__(self,raza,color,edad,sexo,patas):\n",
    "        self.raza = raza\n",
    "        self.color = color\n",
    "        self.edad = edad\n",
    "        self.sexo = sexo\n",
    "        self.patas = patas\n",
    "\n",
    "    def describe(self):\n",
    "        print(\"Raza: \", self.raza)\n",
    "        print(\"Color: \", self.color)\n",
    "        print(\"Edad: \", self.edad)\n",
    "        print(\"Sexo: \", self.sexo)\n",
    "        print(\"Patas: \", self.patas)"
   ]
  },
  {
   "cell_type": "code",
   "execution_count": null,
   "metadata": {},
   "outputs": [],
   "source": [
    "perro1 = Animal(\"Pastor Aleman\", \"Cafe\", 5, \"Macho\", 4)\n",
    "perro1.describe()"
   ]
  }
 ],
 "metadata": {
  "kernelspec": {
   "display_name": "Python 3",
   "language": "python",
   "name": "python3"
  },
  "language_info": {
   "codemirror_mode": {
    "name": "ipython",
    "version": 3
   },
   "file_extension": ".py",
   "mimetype": "text/x-python",
   "name": "python",
   "nbconvert_exporter": "python",
   "pygments_lexer": "ipython3",
   "version": "3.13.0"
  }
 },
 "nbformat": 4,
 "nbformat_minor": 2
}
